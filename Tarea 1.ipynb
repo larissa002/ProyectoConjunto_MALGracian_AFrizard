{
 "cells": [
  {
   "cell_type": "markdown",
   "metadata": {},
   "source": [
    "<img style=\"float: left; margin: 30px 15px 15px 15px;\" src=\"https://pngimage.net/wp-content/uploads/2018/06/logo-iteso-png-5.png\" width=\"300\" height=\"500\" /> \n",
    "    \n",
    "    \n",
    "### <font color='navy'> Simulación de procesos financieros. \n",
    "\n",
    "**Nombres:** #############.\n",
    "\n",
    "**Fecha:** XX de octubre del 201X.\n",
    "\n",
    "**Expediente** : XXX.\n",
    "**Profesor:** Oscar David Jaramillo Zuluaga.\n",
    "    \n",
    "**Link Github**: Link con el enlace del repositorio del creador del proyecto\n",
    "\n",
    "# Tarea X: Clase X"
   ]
  },
  {
   "cell_type": "markdown",
   "metadata": {},
   "source": [
    "## Enunciado de tarea (Transcibirlo)\n",
    "> Descripción de la tarea"
   ]
  },
  {
   "cell_type": "markdown",
   "metadata": {},
   "source": [
    "### Ejercicio 1: (enunciado) Transcribirlo"
   ]
  },
  {
   "cell_type": "markdown",
   "metadata": {},
   "source": [
    "Código de solución estudiante 1"
   ]
  },
  {
   "cell_type": "code",
   "execution_count": null,
   "metadata": {},
   "outputs": [],
   "source": [
    "# Código de solución estudiante 1\n",
    ".\n",
    ".\n",
    ".\n",
    ".\n"
   ]
  },
  {
   "cell_type": "markdown",
   "metadata": {},
   "source": [
    "Código de solución estudiante 2"
   ]
  },
  {
   "cell_type": "markdown",
   "metadata": {},
   "source": [
    "Hola mi nombre es Alejandro Frizard, estudió Ingeniería Financiera en el ITESO. Mis expectativas del curso son mejorar mis habilidades de programación y aprender la creación de modelos financieros en Python.\n"
   ]
  },
  {
   "cell_type": "code",
   "execution_count": null,
   "metadata": {},
   "outputs": [],
   "source": [
    "# Código de solución estudiante 2\n",
    "| i          | 1   | 2   | 3   | 4   | 5 | 6 | 7  |\n",
    "|------------|-----|-----|-----|-----|---|---|----|\n",
    "| $$E_i (V)  $$   | 12  | 10  | 24  | 12  | - | - | -  |\n",
    "| $$4r_i (\\Omega ) $$| 0.1 | 0.5 | 0.2 | 0.5 | - | - | -  |\n",
    "| $$R_i (\\Omega ) $$| 25  | 40  | 16  | 20  | 9 | 4 | 20 |\n",
    "\n",
    "<span style=\"font-family: 'Times New Roman'; color: #0080FF; font-weight: bold;\">Kemma y Vorst (1990)</span> <span style=\"font-family: 'Times New Roman'; color: black;\">muestran que las opciones asiáticas con media geométrica continua se pueden valuar con el mismo enfoque de las opciones plain vanilla; solo se deben cambiar los parámetros de volatilidad a por $\\sigma$ y el costo de acarreo \\$b$ por $b_A$. \n",
    "    \n",
    "<span style=\"font-family: 'Times New Roman'; color: black;\">   De acuerdo con Kemna y Vorst, las fórmulas para valuar una opción de compra y una opción de venta son:\n",
    "\n",
    "$$\n",
    "c ≈ S_t e^{(b_A - r)(T-t)} \\phi (d_1) - Ke^{-r(T-t)}\\phi (d_2)\n",
    "$$\n",
    "    \n",
    "    \n",
    "$$\n",
    "p ≈ Ke^{-r(T-t)}\\phi (-d_2) - S_t e^{(b_A - r)(T-t)} \\phi (-d_1)\n",
    "$$\n",
    "    \n",
    "<span style=\"font-family: 'Times New Roman'; color: black;\"> con $d_1$ y $d_2$ dados por:\n",
    "    \n",
    "$$\n",
    "d_1 = \\frac{ln (S_t/K) + (b_A + 1 / 2\\sigma^{2}_a)(T-t)}{ \\sigma \\sqrt{T-t}}\n",
    "$$\n",
    "\n",
    "$$\n",
    "d_2 = d_1 - \\sigma \\sqrt{T-t}\n",
    "$$\n",
    "    \n",
    "<span style=\"font-family: 'Times New Roman'; color: black;\"> La función $\\phi$($d$) es  la función de distribución acumulada de $E$~$N$(0,1).La volatilidad ajustada es igual a:\n",
    "    \n",
    "$$\n",
    "\\sigma = \\frac{\\sigma}{\\sqrt{3}} \n",
    "$$\n",
    "    \n",
    "<span style=\"font-family: 'Times New Roman'; color: black;\"> mientras que el costo de acarreo ajustado es:\n",
    "    \n",
    "$$\n",
    "b_A = \\frac{1}{2}(v-\\frac{\\sigma^{2}}{6})\n",
    "$$\n"
   ]
  },
  {
   "cell_type": "markdown",
   "metadata": {},
   "source": [
    "### Respuesta planteada en el ejercicio usando (markdown)\n",
    " La respuesta es ........."
   ]
  },
  {
   "cell_type": "markdown",
   "metadata": {},
   "source": [
    "\n",
    "| i          | 1   | 2   | 3   | 4   | 5 | 6 | 7  |\n",
    "|------------|-----|-----|-----|-----|---|---|----|\n",
    "| $$E_i (V)  $$   | 12  | 10  | 24  | 12  | - | - | -  |\n",
    "| $$4r_i (\\Omega ) $$| 0.1 | 0.5 | 0.2 | 0.5 | - | - | -  |\n",
    "| $$R_i (\\Omega ) $$| 25  | 40  | 16  | 20  | 9 | 4 | 20 |\n",
    "\n",
    "<span style=\"font-family: 'Times New Roman'; color: #0080FF; font-weight: bold;\">Kemma y Vorst (1990)</span> <span style=\"font-family: 'Times New Roman'; color: black;\">muestran que las opciones asiáticas con media geométrica continua se pueden valuar con el mismo enfoque de las opciones plain vanilla; solo se deben cambiar los parámetros de volatilidad a por $\\sigma$ y el costo de acarreo \\$b$ por $b_A$. \n",
    "    \n",
    "<span style=\"font-family: 'Times New Roman'; color: black;\">   De acuerdo con Kemna y Vorst, las fórmulas para valuar una opción de compra y una opción de venta son:\n",
    "\n",
    "$$\n",
    "c ≈ S_t e^{(b_A - r)(T-t)} \\phi (d_1) - Ke^{-r(T-t)}\\phi (d_2)\n",
    "$$\n",
    "    \n",
    "    \n",
    "$$\n",
    "p ≈ Ke^{-r(T-t)}\\phi (-d_2) - S_t e^{(b_A - r)(T-t)} \\phi (-d_1)\n",
    "$$\n",
    "    \n",
    "<span style=\"font-family: 'Times New Roman'; color: black;\"> con $d_1$ y $d_2$ dados por:\n",
    "    \n",
    "$$\n",
    "d_1 = \\frac{ln (S_t/K) + (b_A + 1 / 2\\sigma^{2}_a)(T-t)}{ \\sigma \\sqrt{T-t}}\n",
    "$$\n",
    "\n",
    "$$\n",
    "d_2 = d_1 - \\sigma \\sqrt{T-t}\n",
    "$$\n",
    "    \n",
    "<span style=\"font-family: 'Times New Roman'; color: black;\"> La función $\\phi$($d$) es  la función de distribución acumulada de $E$~$N$(0,1).La volatilidad ajustada es igual a:\n",
    "    \n",
    "$$\n",
    "\\sigma = \\frac{\\sigma}{\\sqrt{3}} \n",
    "$$\n",
    "    \n",
    "<span style=\"font-family: 'Times New Roman'; color: black;\"> mientras que el costo de acarreo ajustado es:\n",
    "    \n",
    "$$\n",
    "b_A = \\frac{1}{2}(v-\\frac{\\sigma^{2}}{6})\n",
    "$$\n"
   ]
  },
  {
   "cell_type": "code",
   "execution_count": null,
   "metadata": {},
   "outputs": [],
   "source": []
  }
 ],
 "metadata": {
  "kernelspec": {
   "display_name": "Python 3 (ipykernel)",
   "language": "python",
   "name": "python3"
  },
  "language_info": {
   "codemirror_mode": {
    "name": "ipython",
    "version": 3
   },
   "file_extension": ".py",
   "mimetype": "text/x-python",
   "name": "python",
   "nbconvert_exporter": "python",
   "pygments_lexer": "ipython3",
   "version": "3.11.5"
  }
 },
 "nbformat": 4,
 "nbformat_minor": 2
}
