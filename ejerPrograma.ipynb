{
 "cells": [
  {
   "cell_type": "markdown",
   "id": "5df0a657",
   "metadata": {},
   "source": [
    "# Ejercicio numeros primos"
   ]
  },
  {
   "cell_type": "code",
   "execution_count": 1,
   "id": "23d961a0",
   "metadata": {},
   "outputs": [
    {
     "name": "stdout",
     "output_type": "stream",
     "text": [
      "Números primos del 0 al 100: [2, 3, 5, 7, 11, 13, 17, 19, 23, 29, 31, 37, 41, 43, 47, 53, 59, 61, 67, 71, 73, 79, 83, 89, 97]\n"
     ]
    }
   ],
   "source": [
    "def es_primo(numero):\n",
    "    if numero < 2:\n",
    "        return False\n",
    "    for i in range(2, int(numero**0.5) + 1):\n",
    "        if numero % i == 0:\n",
    "            return False\n",
    "    return True\n",
    "\n",
    "def mostrar_numeros_primos(hasta):\n",
    "    primos = [numero for numero in range(hasta + 1) if es_primo(numero)]\n",
    "    return primos\n",
    "\n",
    "# Mostrar los números primos del 0 al 100\n",
    "numeros_primos = mostrar_numeros_primos(100)\n",
    "print(\"Números primos del 0 al 100:\", numeros_primos)\n"
   ]
  },
  {
   "cell_type": "code",
   "execution_count": null,
   "id": "a81b87ac",
   "metadata": {},
   "outputs": [],
   "source": []
  }
 ],
 "metadata": {
  "kernelspec": {
   "display_name": "Python 3 (ipykernel)",
   "language": "python",
   "name": "python3"
  },
  "language_info": {
   "codemirror_mode": {
    "name": "ipython",
    "version": 3
   },
   "file_extension": ".py",
   "mimetype": "text/x-python",
   "name": "python",
   "nbconvert_exporter": "python",
   "pygments_lexer": "ipython3",
   "version": "3.11.5"
  }
 },
 "nbformat": 4,
 "nbformat_minor": 5
}
